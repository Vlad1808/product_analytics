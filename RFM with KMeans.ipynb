{
 "cells": [
  {
   "cell_type": "markdown",
   "metadata": {},
   "source": [
    "### E-commerce — customer segmentation\n",
    "This dataset contains transactions of an online store selling goods for home and decore. \n",
    "\n",
    "We need to segment users by consumption profile, so we need:\n",
    "\n",
    "- conduct EDA \n",
    "\n",
    "- We need to segment customers based on the history of their purchases. As primary tool for segmentation there will be used RFM analysis, which clusters customers based on how recent they interacted with the product, how frequently they do it and how much income they generate. Also, as the clustering algorithm there will be used KMeans. \n",
    "\n",
    "- hypotheses testing that the cluster are significantly different in the amount of money they spend\n",
    "\n",
    "**The table of content:**\n",
    "\n",
    "- [EDA and data preprocessing](#step1)\n",
    "\n",
    "- [Segmentation according to percentiles (Recency, Frequency, Monetary)](#step2)\n",
    "\n",
    "- [Data preprocessing for KMeans](#step3)\n",
    "\n",
    "- [Clustering with KMeans](#step4)\n",
    "\n",
    "- [Hyporheses testing that the segments do not significantly differ](#step5)"
   ]
  },
  {
   "cell_type": "markdown",
   "metadata": {},
   "source": [
    "###  EDA and data preprocessing (if needed) <a id='step1'></a>"
   ]
  },
  {
   "cell_type": "code",
   "execution_count": 1,
   "metadata": {},
   "outputs": [],
   "source": [
    "import pandas as pd\n",
    "import numpy as np\n",
    "import matplotlib.pyplot as plt \n",
    "import seaborn as sns\n",
    "import warnings \n",
    "warnings.filterwarnings('ignore')\n",
    "from datetime import timedelta\n",
    "from sklearn.preprocessing import StandardScaler\n",
    "from sklearn.cluster import KMeans\n",
    "import scipy as sp \n",
    "from scipy import stats as st\n",
    "import datetime"
   ]
  },
  {
   "cell_type": "code",
   "execution_count": 2,
   "metadata": {},
   "outputs": [],
   "source": [
    "# loading data and changing dates format\n",
    "df = pd.read_csv('ecommerce_dataset.csv')\n",
    "df['date'] = df['date'].apply(lambda x: pd.to_datetime(str(x), format='%Y%m%d%H'))"
   ]
  },
  {
   "cell_type": "code",
   "execution_count": 3,
   "metadata": {},
   "outputs": [],
   "source": [
    "# let's look at the data\n",
    "\n",
    "def info_head_describe_duplicates(df):\n",
    "    display(df.info())\n",
    "    print('')\n",
    "    print('-----------------------------------------------------------------')\n",
    "    print('')\n",
    "    display(df.head())\n",
    "    print('')\n",
    "    print('-----------------------------------------------------------------')\n",
    "    print('')\n",
    "    display(df.describe())\n",
    "    print('')\n",
    "    print('-----------------------------------------------------------------')\n",
    "    print('')\n",
    "    display(df.duplicated().sum())"
   ]
  },
  {
   "cell_type": "code",
   "execution_count": 4,
   "metadata": {},
   "outputs": [
    {
     "name": "stdout",
     "output_type": "stream",
     "text": [
      "<class 'pandas.core.frame.DataFrame'>\n",
      "RangeIndex: 6737 entries, 0 to 6736\n",
      "Data columns (total 6 columns):\n",
      "date           6737 non-null datetime64[ns]\n",
      "customer_id    6737 non-null object\n",
      "order_id       6737 non-null int64\n",
      "product        6737 non-null object\n",
      "quantity       6737 non-null int64\n",
      "price          6737 non-null float64\n",
      "dtypes: datetime64[ns](1), float64(1), int64(2), object(2)\n",
      "memory usage: 315.9+ KB\n"
     ]
    },
    {
     "data": {
      "text/plain": [
       "None"
      ]
     },
     "metadata": {},
     "output_type": "display_data"
    },
    {
     "name": "stdout",
     "output_type": "stream",
     "text": [
      "\n",
      "-----------------------------------------------------------------\n",
      "\n"
     ]
    },
    {
     "data": {
      "text/html": [
       "<div>\n",
       "<style scoped>\n",
       "    .dataframe tbody tr th:only-of-type {\n",
       "        vertical-align: middle;\n",
       "    }\n",
       "\n",
       "    .dataframe tbody tr th {\n",
       "        vertical-align: top;\n",
       "    }\n",
       "\n",
       "    .dataframe thead th {\n",
       "        text-align: right;\n",
       "    }\n",
       "</style>\n",
       "<table border=\"1\" class=\"dataframe\">\n",
       "  <thead>\n",
       "    <tr style=\"text-align: right;\">\n",
       "      <th></th>\n",
       "      <th>date</th>\n",
       "      <th>customer_id</th>\n",
       "      <th>order_id</th>\n",
       "      <th>product</th>\n",
       "      <th>quantity</th>\n",
       "      <th>price</th>\n",
       "    </tr>\n",
       "  </thead>\n",
       "  <tbody>\n",
       "    <tr>\n",
       "      <td>0</td>\n",
       "      <td>2018-10-01</td>\n",
       "      <td>ee47d746-6d2f-4d3c-9622-c31412542920</td>\n",
       "      <td>68477</td>\n",
       "      <td>Комнатное растение в горшке Алое Вера, d12, h30</td>\n",
       "      <td>1</td>\n",
       "      <td>142.0</td>\n",
       "    </tr>\n",
       "    <tr>\n",
       "      <td>1</td>\n",
       "      <td>2018-10-01</td>\n",
       "      <td>ee47d746-6d2f-4d3c-9622-c31412542920</td>\n",
       "      <td>68477</td>\n",
       "      <td>Комнатное растение в горшке Кофе Арабика, d12,...</td>\n",
       "      <td>1</td>\n",
       "      <td>194.0</td>\n",
       "    </tr>\n",
       "    <tr>\n",
       "      <td>2</td>\n",
       "      <td>2018-10-01</td>\n",
       "      <td>ee47d746-6d2f-4d3c-9622-c31412542920</td>\n",
       "      <td>68477</td>\n",
       "      <td>Радермахера d-12 см h-20 см</td>\n",
       "      <td>1</td>\n",
       "      <td>112.0</td>\n",
       "    </tr>\n",
       "    <tr>\n",
       "      <td>3</td>\n",
       "      <td>2018-10-01</td>\n",
       "      <td>ee47d746-6d2f-4d3c-9622-c31412542920</td>\n",
       "      <td>68477</td>\n",
       "      <td>Хризолидокарпус Лутесценс d-9 см</td>\n",
       "      <td>1</td>\n",
       "      <td>179.0</td>\n",
       "    </tr>\n",
       "    <tr>\n",
       "      <td>4</td>\n",
       "      <td>2018-10-01</td>\n",
       "      <td>ee47d746-6d2f-4d3c-9622-c31412542920</td>\n",
       "      <td>68477</td>\n",
       "      <td>Циперус Зумула d-12 см h-25 см</td>\n",
       "      <td>1</td>\n",
       "      <td>112.0</td>\n",
       "    </tr>\n",
       "  </tbody>\n",
       "</table>\n",
       "</div>"
      ],
      "text/plain": [
       "        date                           customer_id  order_id  \\\n",
       "0 2018-10-01  ee47d746-6d2f-4d3c-9622-c31412542920     68477   \n",
       "1 2018-10-01  ee47d746-6d2f-4d3c-9622-c31412542920     68477   \n",
       "2 2018-10-01  ee47d746-6d2f-4d3c-9622-c31412542920     68477   \n",
       "3 2018-10-01  ee47d746-6d2f-4d3c-9622-c31412542920     68477   \n",
       "4 2018-10-01  ee47d746-6d2f-4d3c-9622-c31412542920     68477   \n",
       "\n",
       "                                             product  quantity  price  \n",
       "0    Комнатное растение в горшке Алое Вера, d12, h30         1  142.0  \n",
       "1  Комнатное растение в горшке Кофе Арабика, d12,...         1  194.0  \n",
       "2                        Радермахера d-12 см h-20 см         1  112.0  \n",
       "3                   Хризолидокарпус Лутесценс d-9 см         1  179.0  \n",
       "4                     Циперус Зумула d-12 см h-25 см         1  112.0  "
      ]
     },
     "metadata": {},
     "output_type": "display_data"
    },
    {
     "name": "stdout",
     "output_type": "stream",
     "text": [
      "\n",
      "-----------------------------------------------------------------\n",
      "\n"
     ]
    },
    {
     "data": {
      "text/html": [
       "<div>\n",
       "<style scoped>\n",
       "    .dataframe tbody tr th:only-of-type {\n",
       "        vertical-align: middle;\n",
       "    }\n",
       "\n",
       "    .dataframe tbody tr th {\n",
       "        vertical-align: top;\n",
       "    }\n",
       "\n",
       "    .dataframe thead th {\n",
       "        text-align: right;\n",
       "    }\n",
       "</style>\n",
       "<table border=\"1\" class=\"dataframe\">\n",
       "  <thead>\n",
       "    <tr style=\"text-align: right;\">\n",
       "      <th></th>\n",
       "      <th>order_id</th>\n",
       "      <th>quantity</th>\n",
       "      <th>price</th>\n",
       "    </tr>\n",
       "  </thead>\n",
       "  <tbody>\n",
       "    <tr>\n",
       "      <td>count</td>\n",
       "      <td>6737.000000</td>\n",
       "      <td>6737.000000</td>\n",
       "      <td>6737.000000</td>\n",
       "    </tr>\n",
       "    <tr>\n",
       "      <td>mean</td>\n",
       "      <td>43128.948345</td>\n",
       "      <td>2.501559</td>\n",
       "      <td>462.028499</td>\n",
       "    </tr>\n",
       "    <tr>\n",
       "      <td>std</td>\n",
       "      <td>27899.414662</td>\n",
       "      <td>15.266478</td>\n",
       "      <td>871.296064</td>\n",
       "    </tr>\n",
       "    <tr>\n",
       "      <td>min</td>\n",
       "      <td>12624.000000</td>\n",
       "      <td>1.000000</td>\n",
       "      <td>9.000000</td>\n",
       "    </tr>\n",
       "    <tr>\n",
       "      <td>25%</td>\n",
       "      <td>14827.000000</td>\n",
       "      <td>1.000000</td>\n",
       "      <td>101.000000</td>\n",
       "    </tr>\n",
       "    <tr>\n",
       "      <td>50%</td>\n",
       "      <td>68503.000000</td>\n",
       "      <td>1.000000</td>\n",
       "      <td>135.000000</td>\n",
       "    </tr>\n",
       "    <tr>\n",
       "      <td>75%</td>\n",
       "      <td>70504.000000</td>\n",
       "      <td>1.000000</td>\n",
       "      <td>398.000000</td>\n",
       "    </tr>\n",
       "    <tr>\n",
       "      <td>max</td>\n",
       "      <td>73164.000000</td>\n",
       "      <td>1000.000000</td>\n",
       "      <td>14917.000000</td>\n",
       "    </tr>\n",
       "  </tbody>\n",
       "</table>\n",
       "</div>"
      ],
      "text/plain": [
       "           order_id     quantity         price\n",
       "count   6737.000000  6737.000000   6737.000000\n",
       "mean   43128.948345     2.501559    462.028499\n",
       "std    27899.414662    15.266478    871.296064\n",
       "min    12624.000000     1.000000      9.000000\n",
       "25%    14827.000000     1.000000    101.000000\n",
       "50%    68503.000000     1.000000    135.000000\n",
       "75%    70504.000000     1.000000    398.000000\n",
       "max    73164.000000  1000.000000  14917.000000"
      ]
     },
     "metadata": {},
     "output_type": "display_data"
    },
    {
     "name": "stdout",
     "output_type": "stream",
     "text": [
      "\n",
      "-----------------------------------------------------------------\n",
      "\n"
     ]
    },
    {
     "data": {
      "text/plain": [
       "0"
      ]
     },
     "metadata": {},
     "output_type": "display_data"
    }
   ],
   "source": [
    "info_head_describe_duplicates(df)"
   ]
  },
  {
   "cell_type": "markdown",
   "metadata": {},
   "source": [
    "#### Overall, the data are clean. However, since KMeans is sensitive to outliers, they're needed to be excluded"
   ]
  },
  {
   "cell_type": "code",
   "execution_count": 5,
   "metadata": {},
   "outputs": [
    {
     "data": {
      "image/png": "[encoded data removed]",
      "text/plain": [
       "<Figure size 792x504 with 1 Axes>"
      ]
     },
     "metadata": {
      "needs_background": "light"
     },
     "output_type": "display_data"
    },
    {
     "data": {
      "text/plain": [
       "count    6737.000000\n",
       "mean        2.501559\n",
       "std        15.266478\n",
       "min         1.000000\n",
       "25%         1.000000\n",
       "50%         1.000000\n",
       "75%         1.000000\n",
       "max      1000.000000\n",
       "Name: quantity, dtype: float64"
      ]
     },
     "metadata": {},
     "output_type": "display_data"
    },
    {
     "data": {
      "text/plain": [
       "26.640000000000327"
      ]
     },
     "execution_count": 5,
     "metadata": {},
     "output_type": "execute_result"
    }
   ],
   "source": [
    "# looking at the distribution of the number of purchases\n",
    "df['quantity'].hist(figsize=(11,7))\n",
    "plt.title('Distribution of the number of purchases'+'\\n')\n",
    "plt.ylabel('Number of orders')\n",
    "plt.xlabel('Number of items')\n",
    "plt.show()\n",
    "display(df.quantity.describe())\n",
    "percentile_quantity = np.percentile(df.quantity, [99])\n",
    "percentile_quantity.max()"
   ]
  },
  {
   "cell_type": "code",
   "execution_count": 6,
   "metadata": {},
   "outputs": [
    {
     "data": {
      "image/png": "[encoded data removed]",
      "text/plain": [
       "<Figure size 792x504 with 1 Axes>"
      ]
     },
     "metadata": {
      "needs_background": "light"
     },
     "output_type": "display_data"
    },
    {
     "data": {
      "text/plain": [
       "4225.400000000044"
      ]
     },
     "execution_count": 6,
     "metadata": {},
     "output_type": "execute_result"
    }
   ],
   "source": [
    "# посмотрим на распределение цены\n",
    "df['price'].hist(figsize=(11,7))\n",
    "plt.title('Distribution of prices'+'\\n')\n",
    "plt.ylabel('Number of orders')\n",
    "plt.xlabel('Prices')\n",
    "plt.show()\n",
    "percentile_price = np.percentile(df.price, [99])\n",
    "percentile_price.max()"
   ]
  },
  {
   "cell_type": "code",
   "execution_count": 7,
   "metadata": {
    "scrolled": true
   },
   "outputs": [
    {
     "data": {
      "text/plain": [
       "Timestamp('2018-10-01 00:00:00')"
      ]
     },
     "metadata": {},
     "output_type": "display_data"
    },
    {
     "data": {
      "text/plain": [
       "Timestamp('2019-10-31 16:00:00')"
      ]
     },
     "metadata": {},
     "output_type": "display_data"
    }
   ],
   "source": [
    "# what is the period of time in the dataset? \n",
    "display(df['date'].min(), df['date'].max())"
   ]
  },
  {
   "cell_type": "code",
   "execution_count": 8,
   "metadata": {
    "scrolled": true
   },
   "outputs": [],
   "source": [
    "# cleaning the dataset from the outliers \n",
    "df_no_outliers = df.query('quantity < @percentile_quantity and price < @percentile_price')"
   ]
  },
  {
   "cell_type": "code",
   "execution_count": 9,
   "metadata": {},
   "outputs": [
    {
     "name": "stdout",
     "output_type": "stream",
     "text": [
      "<class 'pandas.core.frame.DataFrame'>\n",
      "Int64Index: 6601 entries, 0 to 6736\n",
      "Data columns (total 6 columns):\n",
      "date           6601 non-null datetime64[ns]\n",
      "customer_id    6601 non-null object\n",
      "order_id       6601 non-null int64\n",
      "product        6601 non-null object\n",
      "quantity       6601 non-null int64\n",
      "price          6601 non-null float64\n",
      "dtypes: datetime64[ns](1), float64(1), int64(2), object(2)\n",
      "memory usage: 361.0+ KB\n"
     ]
    },
    {
     "data": {
      "text/plain": [
       "None"
      ]
     },
     "metadata": {},
     "output_type": "display_data"
    },
    {
     "data": {
      "text/html": [
       "<div>\n",
       "<style scoped>\n",
       "    .dataframe tbody tr th:only-of-type {\n",
       "        vertical-align: middle;\n",
       "    }\n",
       "\n",
       "    .dataframe tbody tr th {\n",
       "        vertical-align: top;\n",
       "    }\n",
       "\n",
       "    .dataframe thead th {\n",
       "        text-align: right;\n",
       "    }\n",
       "</style>\n",
       "<table border=\"1\" class=\"dataframe\">\n",
       "  <thead>\n",
       "    <tr style=\"text-align: right;\">\n",
       "      <th></th>\n",
       "      <th>order_id</th>\n",
       "      <th>quantity</th>\n",
       "      <th>price</th>\n",
       "    </tr>\n",
       "  </thead>\n",
       "  <tbody>\n",
       "    <tr>\n",
       "      <td>count</td>\n",
       "      <td>6601.000000</td>\n",
       "      <td>6601.000000</td>\n",
       "      <td>6601.000000</td>\n",
       "    </tr>\n",
       "    <tr>\n",
       "      <td>mean</td>\n",
       "      <td>42561.791698</td>\n",
       "      <td>1.701409</td>\n",
       "      <td>408.649447</td>\n",
       "    </tr>\n",
       "    <tr>\n",
       "      <td>std</td>\n",
       "      <td>27900.499469</td>\n",
       "      <td>2.533308</td>\n",
       "      <td>655.993347</td>\n",
       "    </tr>\n",
       "    <tr>\n",
       "      <td>min</td>\n",
       "      <td>12624.000000</td>\n",
       "      <td>1.000000</td>\n",
       "      <td>9.000000</td>\n",
       "    </tr>\n",
       "    <tr>\n",
       "      <td>25%</td>\n",
       "      <td>14819.000000</td>\n",
       "      <td>1.000000</td>\n",
       "      <td>104.000000</td>\n",
       "    </tr>\n",
       "    <tr>\n",
       "      <td>50%</td>\n",
       "      <td>14943.000000</td>\n",
       "      <td>1.000000</td>\n",
       "      <td>135.000000</td>\n",
       "    </tr>\n",
       "    <tr>\n",
       "      <td>75%</td>\n",
       "      <td>70447.000000</td>\n",
       "      <td>1.000000</td>\n",
       "      <td>375.000000</td>\n",
       "    </tr>\n",
       "    <tr>\n",
       "      <td>max</td>\n",
       "      <td>73164.000000</td>\n",
       "      <td>26.000000</td>\n",
       "      <td>4139.000000</td>\n",
       "    </tr>\n",
       "  </tbody>\n",
       "</table>\n",
       "</div>"
      ],
      "text/plain": [
       "           order_id     quantity        price\n",
       "count   6601.000000  6601.000000  6601.000000\n",
       "mean   42561.791698     1.701409   408.649447\n",
       "std    27900.499469     2.533308   655.993347\n",
       "min    12624.000000     1.000000     9.000000\n",
       "25%    14819.000000     1.000000   104.000000\n",
       "50%    14943.000000     1.000000   135.000000\n",
       "75%    70447.000000     1.000000   375.000000\n",
       "max    73164.000000    26.000000  4139.000000"
      ]
     },
     "metadata": {},
     "output_type": "display_data"
    }
   ],
   "source": [
    "# looking at the new data\n",
    "display(df_no_outliers.info(), df_no_outliers.describe())"
   ]
  },
  {
   "cell_type": "markdown",
   "metadata": {},
   "source": [
    "## Segmenting customers using RFM analysis.<a id='step2'></a>"
   ]
  },
  {
   "cell_type": "markdown",
   "metadata": {},
   "source": [
    "### The data don't have outliers, they are ready for the RFM analysis. Segmentation of customers in RFM analysis is done using three parameters: R-recency (time from the last purchase), F-frequency (how often a customer purchases) and M-monetary (how much income is generated by the customer). More precisely about RFM analysis  [here](https://medium.com/analytics-vidhya/customer-segmentation-with-rfm-analysis-kmeans-clustering-32c387d04dfe)"
   ]
  },
  {
   "cell_type": "code",
   "execution_count": 10,
   "metadata": {},
   "outputs": [
    {
     "data": {
      "text/html": [
       "<div>\n",
       "<style scoped>\n",
       "    .dataframe tbody tr th:only-of-type {\n",
       "        vertical-align: middle;\n",
       "    }\n",
       "\n",
       "    .dataframe tbody tr th {\n",
       "        vertical-align: top;\n",
       "    }\n",
       "\n",
       "    .dataframe thead th {\n",
       "        text-align: right;\n",
       "    }\n",
       "</style>\n",
       "<table border=\"1\" class=\"dataframe\">\n",
       "  <thead>\n",
       "    <tr style=\"text-align: right;\">\n",
       "      <th></th>\n",
       "      <th>date</th>\n",
       "      <th>customer_id</th>\n",
       "      <th>order_id</th>\n",
       "      <th>product</th>\n",
       "      <th>quantity</th>\n",
       "      <th>price</th>\n",
       "      <th>spent_quartiles</th>\n",
       "    </tr>\n",
       "  </thead>\n",
       "  <tbody>\n",
       "    <tr>\n",
       "      <td>0</td>\n",
       "      <td>2018-10-01</td>\n",
       "      <td>ee47d746-6d2f-4d3c-9622-c31412542920</td>\n",
       "      <td>68477</td>\n",
       "      <td>Комнатное растение в горшке Алое Вера, d12, h30</td>\n",
       "      <td>1</td>\n",
       "      <td>142.0</td>\n",
       "      <td>3</td>\n",
       "    </tr>\n",
       "    <tr>\n",
       "      <td>1</td>\n",
       "      <td>2018-10-01</td>\n",
       "      <td>ee47d746-6d2f-4d3c-9622-c31412542920</td>\n",
       "      <td>68477</td>\n",
       "      <td>Комнатное растение в горшке Кофе Арабика, d12,...</td>\n",
       "      <td>1</td>\n",
       "      <td>194.0</td>\n",
       "      <td>3</td>\n",
       "    </tr>\n",
       "    <tr>\n",
       "      <td>2</td>\n",
       "      <td>2018-10-01</td>\n",
       "      <td>ee47d746-6d2f-4d3c-9622-c31412542920</td>\n",
       "      <td>68477</td>\n",
       "      <td>Радермахера d-12 см h-20 см</td>\n",
       "      <td>1</td>\n",
       "      <td>112.0</td>\n",
       "      <td>2</td>\n",
       "    </tr>\n",
       "    <tr>\n",
       "      <td>3</td>\n",
       "      <td>2018-10-01</td>\n",
       "      <td>ee47d746-6d2f-4d3c-9622-c31412542920</td>\n",
       "      <td>68477</td>\n",
       "      <td>Хризолидокарпус Лутесценс d-9 см</td>\n",
       "      <td>1</td>\n",
       "      <td>179.0</td>\n",
       "      <td>3</td>\n",
       "    </tr>\n",
       "    <tr>\n",
       "      <td>4</td>\n",
       "      <td>2018-10-01</td>\n",
       "      <td>ee47d746-6d2f-4d3c-9622-c31412542920</td>\n",
       "      <td>68477</td>\n",
       "      <td>Циперус Зумула d-12 см h-25 см</td>\n",
       "      <td>1</td>\n",
       "      <td>112.0</td>\n",
       "      <td>2</td>\n",
       "    </tr>\n",
       "  </tbody>\n",
       "</table>\n",
       "</div>"
      ],
      "text/plain": [
       "        date                           customer_id  order_id  \\\n",
       "0 2018-10-01  ee47d746-6d2f-4d3c-9622-c31412542920     68477   \n",
       "1 2018-10-01  ee47d746-6d2f-4d3c-9622-c31412542920     68477   \n",
       "2 2018-10-01  ee47d746-6d2f-4d3c-9622-c31412542920     68477   \n",
       "3 2018-10-01  ee47d746-6d2f-4d3c-9622-c31412542920     68477   \n",
       "4 2018-10-01  ee47d746-6d2f-4d3c-9622-c31412542920     68477   \n",
       "\n",
       "                                             product  quantity  price  \\\n",
       "0    Комнатное растение в горшке Алое Вера, d12, h30         1  142.0   \n",
       "1  Комнатное растение в горшке Кофе Арабика, d12,...         1  194.0   \n",
       "2                        Радермахера d-12 см h-20 см         1  112.0   \n",
       "3                   Хризолидокарпус Лутесценс d-9 см         1  179.0   \n",
       "4                     Циперус Зумула d-12 см h-25 см         1  112.0   \n",
       "\n",
       "  spent_quartiles  \n",
       "0               3  \n",
       "1               3  \n",
       "2               2  \n",
       "3               3  \n",
       "4               2  "
      ]
     },
     "execution_count": 10,
     "metadata": {},
     "output_type": "execute_result"
    }
   ],
   "source": [
    "# Division data into 4 percentiles, 4th is the highest one\n",
    "spend_quartiles = pd.qcut(df_no_outliers['price'], q=4, labels=range(1,5))\n",
    "df_no_outliers['spent_quartiles'] = spend_quartiles \n",
    "df_no_outliers.head()"
   ]
  },
  {
   "cell_type": "code",
   "execution_count": 11,
   "metadata": {},
   "outputs": [
    {
     "data": {
      "text/plain": [
       "Timestamp('2018-10-01 00:00:00')"
      ]
     },
     "metadata": {},
     "output_type": "display_data"
    },
    {
     "data": {
      "text/plain": [
       "Timestamp('2019-10-31 16:00:00')"
      ]
     },
     "metadata": {},
     "output_type": "display_data"
    }
   ],
   "source": [
    "# calculating timedelta  \n",
    "display(df.date.min(), df.date.max())\n",
    "df_no_outliers['min_date'] = '2018-10-01 00:00:00'\n",
    "df_no_outliers['min_date'] = pd.to_datetime(df_no_outliers['min_date'])\n",
    "df_no_outliers['time_delta'] = df_no_outliers['date'] - df_no_outliers['min_date']\n",
    "df_no_outliers.time_delta = df_no_outliers.time_delta/np.timedelta64(1, 'D')\n",
    "df_no_outliers.time_delta = df_no_outliers.time_delta.astype('int')"
   ]
  },
  {
   "cell_type": "code",
   "execution_count": 12,
   "metadata": {},
   "outputs": [],
   "source": [
    "# counting the number of days\n",
    "\n",
    "snapshot_date = max(df_no_outliers['date']) + datetime.timedelta(days=1)\n",
    "\n",
    "rfm_data = df_no_outliers.groupby(['customer_id']).agg({\n",
    "    'customer_id':'count',\n",
    "    'date':lambda x: (snapshot_date - x.max()).days,\n",
    "    'price':'sum'\n",
    "})\n",
    "\n",
    "# renmaing columns \n",
    "rfm_data = rfm_data.rename(columns = {'date':'recency',\n",
    "                          'customer_id':'frequency',\n",
    "                          'price':'monetary'})"
   ]
  },
  {
   "cell_type": "markdown",
   "metadata": {},
   "source": [
    "## Preparation of data for KMeans <a id='step3'></a>"
   ]
  },
  {
   "cell_type": "code",
   "execution_count": 13,
   "metadata": {},
   "outputs": [
    {
     "name": "stdout",
     "output_type": "stream",
     "text": [
      "mean: [-0. -0. -0.]\n",
      "median: [1. 1. 1.]\n"
     ]
    }
   ],
   "source": [
    "# taking the logarithm \n",
    "rfm_normalized = np.log(rfm_data)\n",
    "\n",
    "# converting to Z-scale\n",
    "scaler = StandardScaler()\n",
    "scaler.fit(rfm_normalized)\n",
    "rfm_normalized = scaler.transform(rfm_normalized)\n",
    "print('mean:', rfm_normalized.mean(axis=0).round(2))\n",
    "print('median:', rfm_normalized.std(axis=0).round(2))"
   ]
  },
  {
   "cell_type": "code",
   "execution_count": 14,
   "metadata": {},
   "outputs": [],
   "source": [
    "# calculating the optimal number of clusters \n",
    "sse = {}\n",
    "for k in range(1, 11):\n",
    "    kmeans = KMeans(n_clusters=k, random_state=1)\n",
    "    kmeans.fit(rfm_normalized)\n",
    "    sse[k] = kmeans.inertia_"
   ]
  },
  {
   "cell_type": "code",
   "execution_count": 15,
   "metadata": {},
   "outputs": [
    {
     "data": {
      "image/png": "[encoded data removed]",
      "text/plain": [
       "<Figure size 648x504 with 1 Axes>"
      ]
     },
     "metadata": {
      "needs_background": "light"
     },
     "output_type": "display_data"
    }
   ],
   "source": [
    "plt.figure(figsize=(9,7))\n",
    "plt.title('The Elbow method')\n",
    "plt.xlabel('k'); plt.ylabel('SSE')\n",
    "sns.pointplot(x=list(sse.keys()), y=list(sse.values()))\n",
    "plt.show()\n",
    "# it is clear that the optimal number of cluster is either 3 or 4, let's cluster by both and see which one is better"
   ]
  },
  {
   "cell_type": "markdown",
   "metadata": {},
   "source": [
    "### Clustering with KMeans <a id='step4'></a>"
   ]
  },
  {
   "cell_type": "code",
   "execution_count": 16,
   "metadata": {},
   "outputs": [
    {
     "data": {
      "text/html": [
       "<div>\n",
       "<style scoped>\n",
       "    .dataframe tbody tr th:only-of-type {\n",
       "        vertical-align: middle;\n",
       "    }\n",
       "\n",
       "    .dataframe tbody tr th {\n",
       "        vertical-align: top;\n",
       "    }\n",
       "\n",
       "    .dataframe thead tr th {\n",
       "        text-align: left;\n",
       "    }\n",
       "\n",
       "    .dataframe thead tr:last-of-type th {\n",
       "        text-align: right;\n",
       "    }\n",
       "</style>\n",
       "<table border=\"1\" class=\"dataframe\">\n",
       "  <thead>\n",
       "    <tr>\n",
       "      <th></th>\n",
       "      <th>recency</th>\n",
       "      <th>frequency</th>\n",
       "      <th colspan=\"2\" halign=\"left\">monetary</th>\n",
       "    </tr>\n",
       "    <tr>\n",
       "      <th></th>\n",
       "      <th>mean</th>\n",
       "      <th>mean</th>\n",
       "      <th>mean</th>\n",
       "      <th>count</th>\n",
       "    </tr>\n",
       "    <tr>\n",
       "      <th>cluster</th>\n",
       "      <th></th>\n",
       "      <th></th>\n",
       "      <th></th>\n",
       "      <th></th>\n",
       "    </tr>\n",
       "  </thead>\n",
       "  <tbody>\n",
       "    <tr>\n",
       "      <td>0</td>\n",
       "      <td>246.0</td>\n",
       "      <td>1.0</td>\n",
       "      <td>1283.0</td>\n",
       "      <td>1011</td>\n",
       "    </tr>\n",
       "    <tr>\n",
       "      <td>1</td>\n",
       "      <td>222.0</td>\n",
       "      <td>15.0</td>\n",
       "      <td>3689.0</td>\n",
       "      <td>268</td>\n",
       "    </tr>\n",
       "    <tr>\n",
       "      <td>2</td>\n",
       "      <td>35.0</td>\n",
       "      <td>1.0</td>\n",
       "      <td>883.0</td>\n",
       "      <td>352</td>\n",
       "    </tr>\n",
       "    <tr>\n",
       "      <td>3</td>\n",
       "      <td>222.0</td>\n",
       "      <td>1.0</td>\n",
       "      <td>140.0</td>\n",
       "      <td>720</td>\n",
       "    </tr>\n",
       "  </tbody>\n",
       "</table>\n",
       "</div>"
      ],
      "text/plain": [
       "        recency frequency monetary      \n",
       "           mean      mean     mean count\n",
       "cluster                                 \n",
       "0         246.0       1.0   1283.0  1011\n",
       "1         222.0      15.0   3689.0   268\n",
       "2          35.0       1.0    883.0   352\n",
       "3         222.0       1.0    140.0   720"
      ]
     },
     "metadata": {},
     "output_type": "display_data"
    },
    {
     "data": {
      "text/plain": [
       "0    1011\n",
       "3     720\n",
       "2     352\n",
       "1     268\n",
       "Name: cluster, dtype: int64"
      ]
     },
     "metadata": {},
     "output_type": "display_data"
    },
    {
     "data": {
      "text/html": [
       "<div>\n",
       "<style scoped>\n",
       "    .dataframe tbody tr th:only-of-type {\n",
       "        vertical-align: middle;\n",
       "    }\n",
       "\n",
       "    .dataframe tbody tr th {\n",
       "        vertical-align: top;\n",
       "    }\n",
       "\n",
       "    .dataframe thead tr th {\n",
       "        text-align: left;\n",
       "    }\n",
       "\n",
       "    .dataframe thead tr:last-of-type th {\n",
       "        text-align: right;\n",
       "    }\n",
       "</style>\n",
       "<table border=\"1\" class=\"dataframe\">\n",
       "  <thead>\n",
       "    <tr>\n",
       "      <th></th>\n",
       "      <th>recency</th>\n",
       "      <th>frequency</th>\n",
       "      <th colspan=\"2\" halign=\"left\">monetary</th>\n",
       "    </tr>\n",
       "    <tr>\n",
       "      <th></th>\n",
       "      <th>mean</th>\n",
       "      <th>mean</th>\n",
       "      <th>mean</th>\n",
       "      <th>count</th>\n",
       "    </tr>\n",
       "    <tr>\n",
       "      <th>cluster</th>\n",
       "      <th></th>\n",
       "      <th></th>\n",
       "      <th></th>\n",
       "      <th></th>\n",
       "    </tr>\n",
       "  </thead>\n",
       "  <tbody>\n",
       "    <tr>\n",
       "      <td>0</td>\n",
       "      <td>223.0</td>\n",
       "      <td>14.0</td>\n",
       "      <td>3674.0</td>\n",
       "      <td>302</td>\n",
       "    </tr>\n",
       "    <tr>\n",
       "      <td>1</td>\n",
       "      <td>242.0</td>\n",
       "      <td>1.0</td>\n",
       "      <td>754.0</td>\n",
       "      <td>1635</td>\n",
       "    </tr>\n",
       "    <tr>\n",
       "      <td>2</td>\n",
       "      <td>40.0</td>\n",
       "      <td>1.0</td>\n",
       "      <td>859.0</td>\n",
       "      <td>414</td>\n",
       "    </tr>\n",
       "  </tbody>\n",
       "</table>\n",
       "</div>"
      ],
      "text/plain": [
       "        recency frequency monetary      \n",
       "           mean      mean     mean count\n",
       "cluster                                 \n",
       "0         223.0      14.0   3674.0   302\n",
       "1         242.0       1.0    754.0  1635\n",
       "2          40.0       1.0    859.0   414"
      ]
     },
     "metadata": {},
     "output_type": "display_data"
    },
    {
     "data": {
      "text/plain": [
       "1    1635\n",
       "2     414\n",
       "0     302\n",
       "Name: cluster, dtype: int64"
      ]
     },
     "metadata": {},
     "output_type": "display_data"
    }
   ],
   "source": [
    "# calculating statistics for various numbers of clusters \n",
    "# calculating for 4 clusters\n",
    "kmeans_4k = KMeans(n_clusters=4, random_state=1)\n",
    "kmeans_4k.fit(rfm_normalized)\n",
    "cluster_labels = kmeans_4k.labels_\n",
    "df_rfm_k4 = rfm_data.assign(cluster = cluster_labels)\n",
    "\n",
    "display(df_rfm_k4.groupby('cluster').agg({'recency':'mean',\n",
    "                                 'frequency':'mean',\n",
    "                                 'monetary':['mean', 'count']}).round(0))\n",
    "display(df_rfm_k4.cluster.value_counts())\n",
    "\n",
    "# for 3 clusters  \n",
    "kmeans_3k = KMeans(n_clusters=3, random_state=1)\n",
    "kmeans_3k.fit(rfm_normalized)\n",
    "cluster_labels = kmeans_3k.labels_\n",
    "df_rfm_k3 = rfm_data.assign(cluster = cluster_labels)\n",
    "\n",
    "display(df_rfm_k3.groupby('cluster').agg({'recency':'mean',\n",
    "                                         'frequency':'mean',\n",
    "                                         'monetary':['mean', 'count']}).round(0))\n",
    "display(df_rfm_k3.cluster.value_counts())"
   ]
  },
  {
   "cell_type": "code",
   "execution_count": 17,
   "metadata": {},
   "outputs": [],
   "source": [
    "# making a dataframe object for a better visualization\n",
    "\n",
    "df_rfm_normalized_3k = pd.DataFrame(rfm_normalized, \n",
    "                                index=rfm_data.index, \n",
    "                                columns=rfm_data.columns)\n",
    "df_rfm_normalized_3k['cluster'] = df_rfm_k3['cluster']"
   ]
  },
  {
   "cell_type": "code",
   "execution_count": 18,
   "metadata": {},
   "outputs": [
    {
     "data": {
      "image/png": "[encoded data removed]",
      "text/plain": [
       "<Figure size 648x504 with 1 Axes>"
      ]
     },
     "metadata": {
      "needs_background": "light"
     },
     "output_type": "display_data"
    }
   ],
   "source": [
    "# visualizing clusters \n",
    "df_rfm_normalized_3k_melt = pd.melt(df_rfm_normalized_3k.reset_index(),\n",
    "                                   id_vars=['customer_id', 'cluster'],\n",
    "                                   value_vars=['recency', 'frequency', 'monetary'],\n",
    "                                   var_name='attribute',\n",
    "                                   value_name='value')\n",
    "plt.figure(figsize=(9,7))\n",
    "plt.title('Linear graph for z-scale transformed data')\n",
    "sns.lineplot(x='attribute', y='value', hue='cluster', data=df_rfm_normalized_3k_melt)\n",
    "plt.show()"
   ]
  },
  {
   "cell_type": "code",
   "execution_count": 19,
   "metadata": {},
   "outputs": [
    {
     "data": {
      "image/png": "[encoded data removed]",
      "text/plain": [
       "<Figure size 648x504 with 1 Axes>"
      ]
     },
     "metadata": {
      "needs_background": "light"
     },
     "output_type": "display_data"
    },
    {
     "data": {
      "text/html": [
       "<div>\n",
       "<style scoped>\n",
       "    .dataframe tbody tr th:only-of-type {\n",
       "        vertical-align: middle;\n",
       "    }\n",
       "\n",
       "    .dataframe tbody tr th {\n",
       "        vertical-align: top;\n",
       "    }\n",
       "\n",
       "    .dataframe thead tr th {\n",
       "        text-align: left;\n",
       "    }\n",
       "\n",
       "    .dataframe thead tr:last-of-type th {\n",
       "        text-align: right;\n",
       "    }\n",
       "</style>\n",
       "<table border=\"1\" class=\"dataframe\">\n",
       "  <thead>\n",
       "    <tr>\n",
       "      <th></th>\n",
       "      <th>recency</th>\n",
       "      <th>frequency</th>\n",
       "      <th colspan=\"2\" halign=\"left\">monetary</th>\n",
       "    </tr>\n",
       "    <tr>\n",
       "      <th></th>\n",
       "      <th>mean</th>\n",
       "      <th>mean</th>\n",
       "      <th>mean</th>\n",
       "      <th>count</th>\n",
       "    </tr>\n",
       "    <tr>\n",
       "      <th>cluster</th>\n",
       "      <th></th>\n",
       "      <th></th>\n",
       "      <th></th>\n",
       "      <th></th>\n",
       "    </tr>\n",
       "  </thead>\n",
       "  <tbody>\n",
       "    <tr>\n",
       "      <td>0</td>\n",
       "      <td>246.0</td>\n",
       "      <td>1.0</td>\n",
       "      <td>1283.0</td>\n",
       "      <td>1011</td>\n",
       "    </tr>\n",
       "    <tr>\n",
       "      <td>1</td>\n",
       "      <td>222.0</td>\n",
       "      <td>15.0</td>\n",
       "      <td>3689.0</td>\n",
       "      <td>268</td>\n",
       "    </tr>\n",
       "    <tr>\n",
       "      <td>2</td>\n",
       "      <td>35.0</td>\n",
       "      <td>1.0</td>\n",
       "      <td>883.0</td>\n",
       "      <td>352</td>\n",
       "    </tr>\n",
       "    <tr>\n",
       "      <td>3</td>\n",
       "      <td>222.0</td>\n",
       "      <td>1.0</td>\n",
       "      <td>140.0</td>\n",
       "      <td>720</td>\n",
       "    </tr>\n",
       "  </tbody>\n",
       "</table>\n",
       "</div>"
      ],
      "text/plain": [
       "        recency frequency monetary      \n",
       "           mean      mean     mean count\n",
       "cluster                                 \n",
       "0         246.0       1.0   1283.0  1011\n",
       "1         222.0      15.0   3689.0   268\n",
       "2          35.0       1.0    883.0   352\n",
       "3         222.0       1.0    140.0   720"
      ]
     },
     "metadata": {},
     "output_type": "display_data"
    },
    {
     "data": {
      "text/plain": [
       "0    1011\n",
       "3     720\n",
       "2     352\n",
       "1     268\n",
       "Name: cluster, dtype: int64"
      ]
     },
     "metadata": {},
     "output_type": "display_data"
    }
   ],
   "source": [
    "# the same thing for 4 clusters\n",
    "df_rfm_normalized_4k = pd.DataFrame(rfm_normalized, \n",
    "                                index=rfm_data.index, \n",
    "                                columns=rfm_data.columns)\n",
    "df_rfm_normalized_4k['cluster'] = df_rfm_k4['cluster']\n",
    "\n",
    "# visualizing\n",
    "df_rfm_normalized_4k_melt = pd.melt(df_rfm_normalized_4k.reset_index(),\n",
    "                                   id_vars=['customer_id', 'cluster'],\n",
    "                                   value_vars=['recency', 'frequency', 'monetary'],\n",
    "                                   var_name='attribute',\n",
    "                                   value_name='value')\n",
    "plt.figure(figsize=(9,7))\n",
    "plt.title('Линейный граф для преобразованных в Z-шкалу данных')\n",
    "sns.lineplot(x='attribute', y='value', hue='cluster', data=df_rfm_normalized_4k_melt)\n",
    "plt.show()\n",
    "display(df_rfm_k4.groupby('cluster').agg({'recency':'mean',\n",
    "                                 'frequency':'mean',\n",
    "                                 'monetary':['mean', 'count']}).round(0))\n",
    "display(df_rfm_k4.cluster.value_counts())"
   ]
  },
  {
   "cell_type": "markdown",
   "metadata": {},
   "source": [
    "### To sum up: \n",
    "\n",
    "- It's seems that the 4-cluster model is more interesting. It stands to reason that it is able to distinct more segments which behave differently. This is also what the elbow method is stating. 0 cluster is the biggest one and it contains users who bought from us long time ago and the average amount if their purchases ~1300. Do we need to send them a push notification to remind of the product? The first cluster contains the most loyal users who generate the most income, purchse frequently, but it's been a while since the last visit. It seems important to address the question whether **they always come with this kind of frequency or has the frequency decreased recently?** The second cluster contains recent users - whose average purchase is for 900 rubles approximately. The last cluster is with 'churned' users. "
   ]
  },
  {
   "cell_type": "markdown",
   "metadata": {},
   "source": [
    "## Hypotheses testing <a id='step5'></a>"
   ]
  },
  {
   "cell_type": "code",
   "execution_count": 20,
   "metadata": {},
   "outputs": [],
   "source": [
    "# Let's keep the 4-cluster model and check if the segments differ significanlty. T-test will be used. There are 4 \n",
    "# clusters hence 6 comparisons. Consequenly Alpha will be divided by 6 \n",
    "alpha = 0.05 / 6\n",
    "def ttest(column_1, column_2, alpha):\n",
    "    result = st.ttest_ind(column_1, column_2)\n",
    "    print(column_1.name, column_1.mean())\n",
    "    print(column_2.name, column_2.mean())\n",
    "    print('p-value:', result[1])\n",
    "    if result[1] < alpha:\n",
    "        print('Rejecting the null hypothesis - the averages of two independent samples are not equal')\n",
    "    else:\n",
    "        print('Could not reject the null hypothesis -\\\n",
    "        the difference in the averages of the two independent samples do not differ statistically significant')"
   ]
  },
  {
   "cell_type": "code",
   "execution_count": 21,
   "metadata": {},
   "outputs": [
    {
     "name": "stdout",
     "output_type": "stream",
     "text": [
      "Average income by cluster 0\n"
     ]
    },
    {
     "data": {
      "text/plain": [
       "0.5579867357890828"
      ]
     },
     "metadata": {},
     "output_type": "display_data"
    },
    {
     "name": "stdout",
     "output_type": "stream",
     "text": [
      "Average income generated by the first cluster\n"
     ]
    },
    {
     "data": {
      "text/plain": [
       "0.8683600614173966"
      ]
     },
     "metadata": {},
     "output_type": "display_data"
    },
    {
     "data": {
      "image/png": "[encoded data removed]",
      "text/plain": [
       "<Figure size 504x360 with 1 Axes>"
      ]
     },
     "metadata": {
      "needs_background": "light"
     },
     "output_type": "display_data"
    },
    {
     "name": "stdout",
     "output_type": "stream",
     "text": [
      "monetary 0.5579867357890828\n",
      "monetary 0.8683600614173966\n",
      "p-value: 4.3551988886130714e-14\n",
      "Rejecting the null hypothesis - the averages of two independent samples are not equal\n"
     ]
    }
   ],
   "source": [
    "print('Average income by cluster 0')\n",
    "display(df_rfm_normalized_4k.query('cluster == 0')['monetary'].mean())\n",
    "print('Average income generated by the first cluster')\n",
    "display(df_rfm_normalized_4k.query('cluster == 1')['monetary'].mean())\n",
    "plt.figure(figsize=(7,5))\n",
    "sns.distplot(df_rfm_normalized_4k.query('cluster == 0')['monetary'], kde=False)\n",
    "sns.distplot(df_rfm_normalized_4k.query('cluster == 1')['monetary'], kde=False)\n",
    "plt.show()\n",
    "ttest(df_rfm_normalized_4k.query('cluster == 0')['monetary'], \n",
    "df_rfm_normalized_4k.query('cluster == 1')['monetary'], alpha)"
   ]
  },
  {
   "cell_type": "code",
   "execution_count": 22,
   "metadata": {},
   "outputs": [
    {
     "name": "stdout",
     "output_type": "stream",
     "text": [
      "Average income by cluster 0\n"
     ]
    },
    {
     "data": {
      "text/plain": [
       "0.5579867357890828"
      ]
     },
     "metadata": {},
     "output_type": "display_data"
    },
    {
     "name": "stdout",
     "output_type": "stream",
     "text": [
      "Average income generated by the second cluster\n"
     ]
    },
    {
     "data": {
      "text/plain": [
       "-0.01056289869722964"
      ]
     },
     "metadata": {},
     "output_type": "display_data"
    },
    {
     "data": {
      "image/png": "[encoded data removed]",
      "text/plain": [
       "<Figure size 504x360 with 1 Axes>"
      ]
     },
     "metadata": {
      "needs_background": "light"
     },
     "output_type": "display_data"
    },
    {
     "name": "stdout",
     "output_type": "stream",
     "text": [
      "monetary 0.5579867357890828\n",
      "monetary -0.01056289869722964\n",
      "p-value: 2.1513383738940287e-43\n",
      "Rejecting the null hypothesis - the averages of two independent samples are not equal\n"
     ]
    }
   ],
   "source": [
    "print('Average income by cluster 0')\n",
    "display(df_rfm_normalized_4k.query('cluster == 0')['monetary'].mean())\n",
    "print('Average income generated by the second cluster')\n",
    "display(df_rfm_normalized_4k.query('cluster == 2')['monetary'].mean())\n",
    "plt.figure(figsize=(7,5))\n",
    "sns.distplot(df_rfm_normalized_4k.query('cluster == 0')['monetary'], kde=False)\n",
    "sns.distplot(df_rfm_normalized_4k.query('cluster == 2')['monetary'], kde=False)\n",
    "plt.show()\n",
    "ttest(df_rfm_normalized_4k.query('cluster == 0')['monetary'], \n",
    "df_rfm_normalized_4k.query('cluster == 2')['monetary'], alpha)"
   ]
  },
  {
   "cell_type": "code",
   "execution_count": 23,
   "metadata": {},
   "outputs": [
    {
     "name": "stdout",
     "output_type": "stream",
     "text": [
      "Average income by cluster 0\n"
     ]
    },
    {
     "data": {
      "text/plain": [
       "0.5579867357890828"
      ]
     },
     "metadata": {},
     "output_type": "display_data"
    },
    {
     "name": "stdout",
     "output_type": "stream",
     "text": [
      "Average income generated by the third cluster\n"
     ]
    },
    {
     "data": {
      "text/plain": [
       "-1.1015652027794434"
      ]
     },
     "metadata": {},
     "output_type": "display_data"
    },
    {
     "data": {
      "image/png": "[encoded data removed]",
      "text/plain": [
       "<Figure size 504x360 with 1 Axes>"
      ]
     },
     "metadata": {
      "needs_background": "light"
     },
     "output_type": "display_data"
    },
    {
     "name": "stdout",
     "output_type": "stream",
     "text": [
      "monetary 0.5579867357890828\n",
      "monetary -1.1015652027794434\n",
      "p-value: 0.0\n",
      "Rejecting the null hypothesis - the averages of two independent samples are not equal\n"
     ]
    }
   ],
   "source": [
    "print('Average income by cluster 0')\n",
    "display(df_rfm_normalized_4k.query('cluster == 0')['monetary'].mean())\n",
    "print('Average income generated by the third cluster')\n",
    "display(df_rfm_normalized_4k.query('cluster == 3')['monetary'].mean())\n",
    "plt.figure(figsize=(7,5))\n",
    "sns.distplot(df_rfm_normalized_4k.query('cluster == 0')['monetary'], kde=False)\n",
    "sns.distplot(df_rfm_normalized_4k.query('cluster == 3')['monetary'], kde=False)\n",
    "plt.show()\n",
    "ttest(df_rfm_normalized_4k.query('cluster == 0')['monetary'], \n",
    "df_rfm_normalized_4k.query('cluster == 3')['monetary'], alpha)"
   ]
  },
  {
   "cell_type": "code",
   "execution_count": 24,
   "metadata": {},
   "outputs": [
    {
     "name": "stdout",
     "output_type": "stream",
     "text": [
      "Average income generated by the first cluster\n"
     ]
    },
    {
     "data": {
      "text/plain": [
       "0.8683600614173966"
      ]
     },
     "metadata": {},
     "output_type": "display_data"
    },
    {
     "name": "stdout",
     "output_type": "stream",
     "text": [
      "Average income generated by the third cluster\n"
     ]
    },
    {
     "data": {
      "text/plain": [
       "-1.1015652027794434"
      ]
     },
     "metadata": {},
     "output_type": "display_data"
    },
    {
     "data": {
      "image/png": "[encoded data removed]",
      "text/plain": [
       "<Figure size 504x360 with 1 Axes>"
      ]
     },
     "metadata": {
      "needs_background": "light"
     },
     "output_type": "display_data"
    },
    {
     "name": "stdout",
     "output_type": "stream",
     "text": [
      "monetary 0.8683600614173966\n",
      "monetary -1.1015652027794434\n",
      "p-value: 6.874451454588316e-230\n",
      "Rejecting the null hypothesis - the averages of two independent samples are not equal\n"
     ]
    }
   ],
   "source": [
    "print('Average income generated by the first cluster')\n",
    "display(df_rfm_normalized_4k.query('cluster == 1')['monetary'].mean())\n",
    "print('Average income generated by the third cluster')\n",
    "display(df_rfm_normalized_4k.query('cluster == 3')['monetary'].mean())\n",
    "plt.figure(figsize=(7,5))\n",
    "sns.distplot(df_rfm_normalized_4k.query('cluster == 1')['monetary'], kde=False)\n",
    "sns.distplot(df_rfm_normalized_4k.query('cluster == 3')['monetary'], kde=False)\n",
    "plt.show()\n",
    "ttest(df_rfm_normalized_4k.query('cluster == 1')['monetary'], \n",
    "df_rfm_normalized_4k.query('cluster == 3')['monetary'], alpha)"
   ]
  },
  {
   "cell_type": "code",
   "execution_count": 25,
   "metadata": {},
   "outputs": [
    {
     "name": "stdout",
     "output_type": "stream",
     "text": [
      "Average income generated by the first cluster\n"
     ]
    },
    {
     "data": {
      "text/plain": [
       "0.8683600614173966"
      ]
     },
     "metadata": {},
     "output_type": "display_data"
    },
    {
     "name": "stdout",
     "output_type": "stream",
     "text": [
      "Average income generated by the second cluster\n"
     ]
    },
    {
     "data": {
      "text/plain": [
       "-0.01056289869722964"
      ]
     },
     "metadata": {},
     "output_type": "display_data"
    },
    {
     "data": {
      "image/png": "[encoded data removed]",
      "text/plain": [
       "<Figure size 504x360 with 1 Axes>"
      ]
     },
     "metadata": {
      "needs_background": "light"
     },
     "output_type": "display_data"
    },
    {
     "name": "stdout",
     "output_type": "stream",
     "text": [
      "monetary 0.8683600614173966\n",
      "monetary -0.01056289869722964\n",
      "p-value: 3.113122463368047e-33\n",
      "Rejecting the null hypothesis - the averages of two independent samples are not equal\n"
     ]
    }
   ],
   "source": [
    "print('Average income generated by the first cluster')\n",
    "display(df_rfm_normalized_4k.query('cluster == 1')['monetary'].mean())\n",
    "print('Average income generated by the second cluster')\n",
    "display(df_rfm_normalized_4k.query('cluster == 2')['monetary'].mean())\n",
    "plt.figure(figsize=(7,5))\n",
    "sns.distplot(df_rfm_normalized_4k.query('cluster == 1')['monetary'], kde=False)\n",
    "sns.distplot(df_rfm_normalized_4k.query('cluster == 2')['monetary'], kde=False)\n",
    "plt.show()\n",
    "ttest(df_rfm_normalized_4k.query('cluster == 1')['monetary'], \n",
    "df_rfm_normalized_4k.query('cluster == 2')['monetary'], alpha)"
   ]
  },
  {
   "cell_type": "code",
   "execution_count": 26,
   "metadata": {},
   "outputs": [
    {
     "name": "stdout",
     "output_type": "stream",
     "text": [
      "Average income generated by the second cluster\n"
     ]
    },
    {
     "data": {
      "text/plain": [
       "-0.01056289869722964"
      ]
     },
     "metadata": {},
     "output_type": "display_data"
    },
    {
     "name": "stdout",
     "output_type": "stream",
     "text": [
      "Average income generated by the third cluster\n"
     ]
    },
    {
     "data": {
      "text/plain": [
       "-1.1015652027794434"
      ]
     },
     "metadata": {},
     "output_type": "display_data"
    },
    {
     "data": {
      "image/png": "[encoded data removed]",
      "text/plain": [
       "<Figure size 504x360 with 1 Axes>"
      ]
     },
     "metadata": {
      "needs_background": "light"
     },
     "output_type": "display_data"
    },
    {
     "name": "stdout",
     "output_type": "stream",
     "text": [
      "monetary -0.01056289869722964\n",
      "monetary -1.1015652027794434\n",
      "p-value: 1.2284718501275584e-103\n",
      "Rejecting the null hypothesis - the averages of two independent samples are not equal\n"
     ]
    }
   ],
   "source": [
    "print('Average income generated by the second cluster')\n",
    "display(df_rfm_normalized_4k.query('cluster == 2')['monetary'].mean())\n",
    "print('Average income generated by the third cluster')\n",
    "display(df_rfm_normalized_4k.query('cluster == 3')['monetary'].mean())\n",
    "plt.figure(figsize=(7,5))\n",
    "sns.distplot(df_rfm_normalized_4k.query('cluster == 2')['monetary'], kde=False)\n",
    "sns.distplot(df_rfm_normalized_4k.query('cluster == 3')['monetary'], kde=False)\n",
    "plt.show()\n",
    "ttest(df_rfm_normalized_4k.query('cluster == 2')['monetary'], \n",
    "df_rfm_normalized_4k.query('cluster == 3')['monetary'], alpha)"
   ]
  },
  {
   "cell_type": "code",
   "execution_count": 27,
   "metadata": {},
   "outputs": [
    {
     "data": {
      "text/html": [
       "<div>\n",
       "<style scoped>\n",
       "    .dataframe tbody tr th:only-of-type {\n",
       "        vertical-align: middle;\n",
       "    }\n",
       "\n",
       "    .dataframe tbody tr th {\n",
       "        vertical-align: top;\n",
       "    }\n",
       "\n",
       "    .dataframe thead th {\n",
       "        text-align: right;\n",
       "    }\n",
       "</style>\n",
       "<table border=\"1\" class=\"dataframe\">\n",
       "  <thead>\n",
       "    <tr style=\"text-align: right;\">\n",
       "      <th>cluster</th>\n",
       "      <th>0</th>\n",
       "      <th>1</th>\n",
       "      <th>2</th>\n",
       "      <th>3</th>\n",
       "    </tr>\n",
       "  </thead>\n",
       "  <tbody>\n",
       "    <tr>\n",
       "      <td>monetary</td>\n",
       "      <td>1282.90999</td>\n",
       "      <td>3689.272388</td>\n",
       "      <td>882.730114</td>\n",
       "      <td>140.315278</td>\n",
       "    </tr>\n",
       "  </tbody>\n",
       "</table>\n",
       "</div>"
      ],
      "text/plain": [
       "cluster            0            1           2           3\n",
       "monetary  1282.90999  3689.272388  882.730114  140.315278"
      ]
     },
     "metadata": {},
     "output_type": "display_data"
    },
    {
     "data": {
      "image/png": "[encoded data removed]",
      "text/plain": [
       "<Figure size 648x504 with 1 Axes>"
      ]
     },
     "metadata": {
      "needs_background": "light"
     },
     "output_type": "display_data"
    }
   ],
   "source": [
    "pivot = df_rfm_k4.pivot_table(columns='cluster', values='monetary', aggfunc='mean')\n",
    "display(pivot)\n",
    "pivot.plot.bar(grid=True, figsize=(9,7))\n",
    "pivot.astype('int')\n",
    "plt.title('Average amount generated by a single user')\n",
    "plt.xlabel('Clusters')\n",
    "plt.ylabel('Amount')\n",
    "plt.xticks(rotation=0)\n",
    "plt.show()"
   ]
  },
  {
   "cell_type": "code",
   "execution_count": 28,
   "metadata": {},
   "outputs": [
    {
     "data": {
      "text/plain": [
       "0    1011\n",
       "3     720\n",
       "2     352\n",
       "1     268\n",
       "Name: cluster, dtype: int64"
      ]
     },
     "metadata": {},
     "output_type": "display_data"
    },
    {
     "data": {
      "image/png": "[encoded data removed]",
      "text/plain": [
       "<Figure size 648x504 with 1 Axes>"
      ]
     },
     "metadata": {
      "needs_background": "light"
     },
     "output_type": "display_data"
    }
   ],
   "source": [
    "display(df_rfm_k4.cluster.value_counts())\n",
    "df_rfm_k4.cluster.value_counts().plot(kind='bar', figsize=(9,7), \n",
    "                                     grid=True)\n",
    "plt.title('Number of users in clusters')\n",
    "plt.xlabel('Clusters')\n",
    "plt.ylabel('Number of users')\n",
    "plt.xticks(rotation=0)\n",
    "plt.show()"
   ]
  },
  {
   "cell_type": "code",
   "execution_count": 29,
   "metadata": {},
   "outputs": [
    {
     "data": {
      "text/html": [
       "<div>\n",
       "<style scoped>\n",
       "    .dataframe tbody tr th:only-of-type {\n",
       "        vertical-align: middle;\n",
       "    }\n",
       "\n",
       "    .dataframe tbody tr th {\n",
       "        vertical-align: top;\n",
       "    }\n",
       "\n",
       "    .dataframe thead th {\n",
       "        text-align: right;\n",
       "    }\n",
       "</style>\n",
       "<table border=\"1\" class=\"dataframe\">\n",
       "  <thead>\n",
       "    <tr style=\"text-align: right;\">\n",
       "      <th></th>\n",
       "      <th>frequency</th>\n",
       "    </tr>\n",
       "    <tr>\n",
       "      <th>cluster</th>\n",
       "      <th></th>\n",
       "    </tr>\n",
       "  </thead>\n",
       "  <tbody>\n",
       "    <tr>\n",
       "      <td>0</td>\n",
       "      <td>1.267062</td>\n",
       "    </tr>\n",
       "    <tr>\n",
       "      <td>1</td>\n",
       "      <td>14.947761</td>\n",
       "    </tr>\n",
       "    <tr>\n",
       "      <td>2</td>\n",
       "      <td>1.309659</td>\n",
       "    </tr>\n",
       "    <tr>\n",
       "      <td>3</td>\n",
       "      <td>1.184722</td>\n",
       "    </tr>\n",
       "  </tbody>\n",
       "</table>\n",
       "</div>"
      ],
      "text/plain": [
       "         frequency\n",
       "cluster           \n",
       "0         1.267062\n",
       "1        14.947761\n",
       "2         1.309659\n",
       "3         1.184722"
      ]
     },
     "metadata": {},
     "output_type": "display_data"
    },
    {
     "data": {
      "image/png": "[encoded data removed]",
      "text/plain": [
       "<Figure size 648x504 with 1 Axes>"
      ]
     },
     "metadata": {
      "needs_background": "light"
     },
     "output_type": "display_data"
    }
   ],
   "source": [
    "display(df_rfm_k4.groupby('cluster').agg({'frequency':'mean'}))\n",
    "df_rfm_k4.groupby('cluster').agg({'frequency':'mean'}).\\\n",
    "sort_values(by='frequency', ascending=False).\\\n",
    "plot.bar(figsize=(9,7), grid=True)\n",
    "plt.title('Average frequency of attendance')\n",
    "plt.xlabel('Cluster')\n",
    "plt.ylabel('Frequence of attendance')\n",
    "plt.show()"
   ]
  },
  {
   "cell_type": "code",
   "execution_count": 30,
   "metadata": {},
   "outputs": [
    {
     "data": {
      "text/html": [
       "<div>\n",
       "<style scoped>\n",
       "    .dataframe tbody tr th:only-of-type {\n",
       "        vertical-align: middle;\n",
       "    }\n",
       "\n",
       "    .dataframe tbody tr th {\n",
       "        vertical-align: top;\n",
       "    }\n",
       "\n",
       "    .dataframe thead th {\n",
       "        text-align: right;\n",
       "    }\n",
       "</style>\n",
       "<table border=\"1\" class=\"dataframe\">\n",
       "  <thead>\n",
       "    <tr style=\"text-align: right;\">\n",
       "      <th></th>\n",
       "      <th>recency</th>\n",
       "    </tr>\n",
       "    <tr>\n",
       "      <th>cluster</th>\n",
       "      <th></th>\n",
       "    </tr>\n",
       "  </thead>\n",
       "  <tbody>\n",
       "    <tr>\n",
       "      <td>0</td>\n",
       "      <td>245.803165</td>\n",
       "    </tr>\n",
       "    <tr>\n",
       "      <td>1</td>\n",
       "      <td>222.220149</td>\n",
       "    </tr>\n",
       "    <tr>\n",
       "      <td>2</td>\n",
       "      <td>35.312500</td>\n",
       "    </tr>\n",
       "    <tr>\n",
       "      <td>3</td>\n",
       "      <td>221.772222</td>\n",
       "    </tr>\n",
       "  </tbody>\n",
       "</table>\n",
       "</div>"
      ],
      "text/plain": [
       "            recency\n",
       "cluster            \n",
       "0        245.803165\n",
       "1        222.220149\n",
       "2         35.312500\n",
       "3        221.772222"
      ]
     },
     "metadata": {},
     "output_type": "display_data"
    },
    {
     "data": {
      "image/png": "[encoded data removed]",
      "text/plain": [
       "<Figure size 648x504 with 1 Axes>"
      ]
     },
     "metadata": {
      "needs_background": "light"
     },
     "output_type": "display_data"
    }
   ],
   "source": [
    "display(df_rfm_k4.groupby('cluster').agg({'recency':'mean'}))\n",
    "df_rfm_k4.groupby('cluster').agg({'recency':'mean'}).\\\n",
    "sort_values(by='recency', ascending=False).\\\n",
    "plot.bar(figsize=(9,7), grid=True)\n",
    "plt.title('Average time since the last visit')\n",
    "plt.xlabel('Cluster')\n",
    "plt.ylabel('Number of days')\n",
    "plt.show()"
   ]
  },
  {
   "cell_type": "markdown",
   "metadata": {},
   "source": [
    "### To sum up:\n",
    "\n",
    "There was conducted a study which purpose was to segment customers. The primary tool was RFM analysis. There were detected 4 segments:  \n",
    "\n",
    "- **The zero segment.** Users buy from us about once a year. The average purchase amount in this segment is about 1300 rubles. Approximately 43% of users fall into this segment\n",
    "\n",
    "\n",
    "- **The first segment.** Users in the first segment are the most loyal and bring us the most profit. On average, they come to us 15 times and their average purchase is about 3700 rubles. On average, the most loyal users buy from us once every seven months. We have about 11% of such users.\n",
    "\n",
    "\n",
    "- **The second segment.** They are the most recent users. Their average purchase is about 900 rubles. On average, they buy from us once and there are about 15 percent of them.\n",
    "\n",
    "\n",
    "- **The third segment.** Those are the clients who 'churned'. They used to buy a long time ago - 222 days ago on average, average amount of their purchases - 140 rubles and they only bought once. They are 31%.\n"
   ]
  }
 ],
 "metadata": {
  "kernelspec": {
   "display_name": "Python 3",
   "language": "python",
   "name": "python3"
  },
  "language_info": {
   "codemirror_mode": {
    "name": "ipython",
    "version": 3
   },
   "file_extension": ".py",
   "mimetype": "text/x-python",
   "name": "python",
   "nbconvert_exporter": "python",
   "pygments_lexer": "ipython3",
   "version": "3.7.4"
  }
 },
 "nbformat": 4,
 "nbformat_minor": 2
}
